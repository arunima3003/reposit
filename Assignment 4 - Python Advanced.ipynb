{
 "cells": [
  {
   "cell_type": "markdown",
   "metadata": {},
   "source": [
    "# Assignment 4 Questions"
   ]
  },
  {
   "cell_type": "markdown",
   "metadata": {},
   "source": [
    "## Problem Statement"
   ]
  },
  {
   "cell_type": "markdown",
   "metadata": {},
   "source": [
    "Q.1 Given a sequence of n values x1, x2, ..., xn and a window size k>0, the k-th moving average of\n",
    "the given sequence is defined as follows:\n",
    "\n",
    "The moving average sequence has n-k+1 elements as shown below.\n",
    "The moving averages with k=4 of a ten-value sequence (n=10) is shown below\n",
    "\n",
    "    i 1 2 3 4 5 6 7 8 9 10\n",
    "    ===== == == == == == == == == == ==\n",
    "    Input 10 20 30 40 50 60 70 80 90 100\n",
    "    y1 25 = (10+20+30+40)/4\n",
    "    y2 35 = (20+30+40+50)/4\n",
    "    y3 45 = (30+40+50+60)/4\n",
    "    y4 55 = (40+50+60+70)/4\n",
    "    y5 65 = (50+60+70+80)/4\n",
    "    y6 75 = (60+70+80+90)/4\n",
    "    y7 85 = (70+80+90+100)/4\n",
    "\n",
    "Thus, the moving average sequence has n-k+1=10-4+1=7 values.\n",
    "\n",
    "Write a function to find moving average in an array over a window:\n",
    "\n",
    "Test it over [3, 5, 7, 2, 8, 10, 11, 65, 72, 81, 99, 100, 150] and window of 3."
   ]
  },
  {
   "cell_type": "code",
   "execution_count": 12,
   "metadata": {},
   "outputs": [
    {
     "name": "stdout",
     "output_type": "stream",
     "text": [
      "[5.0, 4.666666666666667, 5.666666666666667, 6.666666666666667, 9.666666666666666, 28.666666666666668, 49.333333333333336, 72.66666666666667, 84.0, 93.33333333333333, 116.33333333333333]\n"
     ]
    }
   ],
   "source": [
    "list = [3, 5, 7, 2, 8, 10, 11, 65, 72, 81, 99, 100, 150]\n",
    "N = 3\n",
    "csum, mov_av = [0], []\n",
    "\n",
    "for i, x in enumerate(list, 1):\n",
    "    csum.append(csum[i-1] + x)\n",
    "    if i>=N:\n",
    "        mov_avg = (csum[i] - csum[i-N])/N\n",
    "        mov_av.append(mov_avg)\n",
    "        \n",
    "print(mov_av)"
   ]
  },
  {
   "cell_type": "markdown",
   "metadata": {},
   "source": [
    "Q.2 How-to-count-distance-to-the-previous-zero\n",
    "For each value, count the difference back to the previous zero (or the start of the Series,\n",
    "whichever is closer)\n",
    "create a new column 'Y'\n",
    "Consider a DataFrame df where there is an integer column 'X'\n",
    "    \n",
    "    import pandas as pd\n",
    "    df = pd.DataFrame({'X': [7, 2, 0, 3, 4, 2, 5, 0, 3, 4]})"
   ]
  },
  {
   "cell_type": "code",
   "execution_count": 40,
   "metadata": {},
   "outputs": [
    {
     "name": "stdout",
     "output_type": "stream",
     "text": [
      "[1, 2, 0, 1, 2, 3, 4, 0, 1, 2]\n"
     ]
    }
   ],
   "source": [
    "import pandas as pd\n",
    "\n",
    "s = pd.Series([7, 2, 0, 3, 4, 2, 5, 0, 3, 4])\n",
    "\n",
    "b = []\n",
    "z_pos = -1\n",
    "for i, n in enumerate(s):\n",
    "    if n == 0:\n",
    "        z_pos = i\n",
    "    b.append(i - z_pos)\n",
    "print(b) \n"
   ]
  },
  {
   "cell_type": "code",
   "execution_count": 43,
   "metadata": {},
   "outputs": [
    {
     "name": "stdout",
     "output_type": "stream",
     "text": [
      "2015-01-01    0.788191\n",
      "2015-01-02    0.428605\n",
      "2015-01-05    0.434308\n",
      "2015-01-06    0.634195\n",
      "2015-01-07    0.752089\n",
      "                ...   \n",
      "2015-12-25    0.147634\n",
      "2015-12-28    0.030400\n",
      "2015-12-29    0.451903\n",
      "2015-12-30    0.105896\n",
      "2015-12-31    0.113045\n",
      "Freq: B, Length: 261, dtype: float64\n"
     ]
    }
   ],
   "source": [
    "dti = pd.date_range(start='2015-01-01', end='2015-12-31', freq='B') \n",
    "s = pd.Series(np.random.rand(len(dti)), index=dti)\n",
    "print(s)"
   ]
  },
  {
   "cell_type": "markdown",
   "metadata": {},
   "source": [
    "Q.4 "
   ]
  }
 ],
 "metadata": {
  "kernelspec": {
   "display_name": "Python 3",
   "language": "python",
   "name": "python3"
  },
  "language_info": {
   "codemirror_mode": {
    "name": "ipython",
    "version": 3
   },
   "file_extension": ".py",
   "mimetype": "text/x-python",
   "name": "python",
   "nbconvert_exporter": "python",
   "pygments_lexer": "ipython3",
   "version": "3.7.4"
  }
 },
 "nbformat": 4,
 "nbformat_minor": 2
}
